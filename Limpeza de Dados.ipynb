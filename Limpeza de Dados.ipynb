{
 "cells": [
  {
   "cell_type": "markdown",
   "id": "9ec5cfd5",
   "metadata": {},
   "source": [
    "*Autor: Gabriel Mendes*   \n",
    "[<img alt=\"Colaboratory logo\" width=\"10%\" src=\"https://img.shields.io/badge/LinkedIn-0077B5?style=for-the-badge&logo=linkedin&logoColor=white\">](https://www.linkedin.com/in/gabriel-mendes-3b4a16149/)"
   ]
  },
  {
   "cell_type": "markdown",
   "id": "fbec2559",
   "metadata": {},
   "source": [
    "### Limpeza de Dados\n",
    " \n",
    "Neste notebook utilizei algumas funções da biblioteca Pandas para limpeza e tratamento de uma base de dados de empréstimo de clientes de um banco. Segue abaixo uma descrição de cada coluna do dataset:\n",
    "\n",
    "    - ChaveSituacao: formado por:\n",
    "        - Idade do cliente (a idade mínima para ser cliente é 18 anos)\n",
    "        - Gênero do cliente:\n",
    "            - M: Masculino\n",
    "            - F: Feminino\n",
    "        - Estado civil do cliente:\n",
    "            - S: solteiro\n",
    "            - C: casado\n",
    "            - D: divorciado\n",
    "            - V: viúvo\n",
    "    - ClassRisco: formado por:\n",
    "        - Classificação do cliente como (A,B,C) e indicador (+,- ou vazio)\n",
    "        - Cor do cliente de acordo com um modelo de churn interno da empresa\n",
    "    - CatCliente: formado por:\n",
    "        - Categoria do cartão: qual o tipo de cartão do cliente:\n",
    "            - Basic\n",
    "            - Black\n",
    "            - Platinum\n",
    "        - Categoria VIP: categoria do cliente VIP (caso exista)\n",
    "            - Alpha\n",
    "            - Beta\n"
   ]
  },
  {
   "cell_type": "code",
   "execution_count": 72,
   "id": "06adf253",
   "metadata": {},
   "outputs": [],
   "source": [
    "import pandas as pd"
   ]
  },
  {
   "cell_type": "code",
   "execution_count": 73,
   "id": "126fa821",
   "metadata": {},
   "outputs": [],
   "source": [
    "base = pd.read_excel(\"ChavesClientes.xlsx\", sheet_name = \"base\")"
   ]
  },
  {
   "cell_type": "code",
   "execution_count": 74,
   "id": "34a9e7d1",
   "metadata": {},
   "outputs": [
    {
     "data": {
      "text/html": [
       "<div>\n",
       "<style scoped>\n",
       "    .dataframe tbody tr th:only-of-type {\n",
       "        vertical-align: middle;\n",
       "    }\n",
       "\n",
       "    .dataframe tbody tr th {\n",
       "        vertical-align: top;\n",
       "    }\n",
       "\n",
       "    .dataframe thead th {\n",
       "        text-align: right;\n",
       "    }\n",
       "</style>\n",
       "<table border=\"1\" class=\"dataframe\">\n",
       "  <thead>\n",
       "    <tr style=\"text-align: right;\">\n",
       "      <th></th>\n",
       "      <th>ID</th>\n",
       "      <th>ChaveSituacao</th>\n",
       "      <th>ClassRisco</th>\n",
       "      <th>CatCliente</th>\n",
       "      <th>Pagamento</th>\n",
       "    </tr>\n",
       "  </thead>\n",
       "  <tbody>\n",
       "    <tr>\n",
       "      <th>0</th>\n",
       "      <td>1</td>\n",
       "      <td>32FC</td>\n",
       "      <td>Ccinza</td>\n",
       "      <td>Basic-Alpha</td>\n",
       "      <td>1</td>\n",
       "    </tr>\n",
       "    <tr>\n",
       "      <th>1</th>\n",
       "      <td>2</td>\n",
       "      <td>25MV</td>\n",
       "      <td>AAmarelo</td>\n",
       "      <td>Black</td>\n",
       "      <td>1</td>\n",
       "    </tr>\n",
       "    <tr>\n",
       "      <th>2</th>\n",
       "      <td>3</td>\n",
       "      <td>27MV</td>\n",
       "      <td>B-Amarelo</td>\n",
       "      <td>Basic-Beta</td>\n",
       "      <td>1</td>\n",
       "    </tr>\n",
       "    <tr>\n",
       "      <th>3</th>\n",
       "      <td>4</td>\n",
       "      <td>26FD</td>\n",
       "      <td>BAmarelo</td>\n",
       "      <td>Black</td>\n",
       "      <td>0</td>\n",
       "    </tr>\n",
       "    <tr>\n",
       "      <th>4</th>\n",
       "      <td>5</td>\n",
       "      <td>26FD</td>\n",
       "      <td>C-Amarelo</td>\n",
       "      <td>Black</td>\n",
       "      <td>0</td>\n",
       "    </tr>\n",
       "  </tbody>\n",
       "</table>\n",
       "</div>"
      ],
      "text/plain": [
       "   ID ChaveSituacao ClassRisco   CatCliente  Pagamento\n",
       "0   1          32FC     Ccinza  Basic-Alpha          1\n",
       "1   2          25MV   AAmarelo        Black          1\n",
       "2   3          27MV  B-Amarelo   Basic-Beta          1\n",
       "3   4          26FD   BAmarelo        Black          0\n",
       "4   5          26FD  C-Amarelo        Black          0"
      ]
     },
     "execution_count": 74,
     "metadata": {},
     "output_type": "execute_result"
    }
   ],
   "source": [
    "base.head()"
   ]
  },
  {
   "cell_type": "code",
   "execution_count": 75,
   "id": "3039bfe4",
   "metadata": {},
   "outputs": [
    {
     "data": {
      "text/plain": [
       "Pagamento  ChaveSituacao\n",
       "0          26FD             2\n",
       "           28FC             2\n",
       "           28MD             1\n",
       "           30FC             1\n",
       "           31MD             1\n",
       "1          25FD             1\n",
       "           25FV             1\n",
       "           25MV             1\n",
       "           26MC             2\n",
       "           27MC             1\n",
       "           27MD             2\n",
       "           27MV             1\n",
       "           28FS             1\n",
       "           29MV             1\n",
       "           31MV             1\n",
       "           32FC             1\n",
       "Name: Pagamento, dtype: int64"
      ]
     },
     "execution_count": 75,
     "metadata": {},
     "output_type": "execute_result"
    }
   ],
   "source": [
    "base.groupby([\"Pagamento\",\"ChaveSituacao\"])[\"Pagamento\"].count()"
   ]
  },
  {
   "cell_type": "code",
   "execution_count": 76,
   "id": "d3d7c9d7",
   "metadata": {},
   "outputs": [
    {
     "data": {
      "text/plain": [
       "'32'"
      ]
     },
     "execution_count": 76,
     "metadata": {},
     "output_type": "execute_result"
    }
   ],
   "source": [
    "texto = \"32FC\"\n",
    "texto[:2]"
   ]
  },
  {
   "cell_type": "markdown",
   "id": "2b240c3a",
   "metadata": {},
   "source": [
    "### Separando a coluna CatCliente com base em delimitadores de texto\n",
    "\n",
    "Nesta etapa separo a coluna ChaveSituação em três colunas, com base na posição do texto."
   ]
  },
  {
   "cell_type": "code",
   "execution_count": 77,
   "id": "889d3c33",
   "metadata": {},
   "outputs": [],
   "source": [
    "base[\"Idade\"] = base.ChaveSituacao.str[:2]\n",
    "base[\"Genero\"] = base.ChaveSituacao.str[2:3]\n",
    "base[\"EstadoCivil\"] = base[\"ChaveSituacao\"].str[3:4]"
   ]
  },
  {
   "cell_type": "code",
   "execution_count": 78,
   "id": "93913825",
   "metadata": {},
   "outputs": [
    {
     "data": {
      "text/html": [
       "<div>\n",
       "<style scoped>\n",
       "    .dataframe tbody tr th:only-of-type {\n",
       "        vertical-align: middle;\n",
       "    }\n",
       "\n",
       "    .dataframe tbody tr th {\n",
       "        vertical-align: top;\n",
       "    }\n",
       "\n",
       "    .dataframe thead th {\n",
       "        text-align: right;\n",
       "    }\n",
       "</style>\n",
       "<table border=\"1\" class=\"dataframe\">\n",
       "  <thead>\n",
       "    <tr style=\"text-align: right;\">\n",
       "      <th></th>\n",
       "      <th>ID</th>\n",
       "      <th>ChaveSituacao</th>\n",
       "      <th>ClassRisco</th>\n",
       "      <th>CatCliente</th>\n",
       "      <th>Pagamento</th>\n",
       "      <th>Idade</th>\n",
       "      <th>Genero</th>\n",
       "      <th>EstadoCivil</th>\n",
       "    </tr>\n",
       "  </thead>\n",
       "  <tbody>\n",
       "    <tr>\n",
       "      <th>0</th>\n",
       "      <td>1</td>\n",
       "      <td>32FC</td>\n",
       "      <td>Ccinza</td>\n",
       "      <td>Basic-Alpha</td>\n",
       "      <td>1</td>\n",
       "      <td>32</td>\n",
       "      <td>F</td>\n",
       "      <td>C</td>\n",
       "    </tr>\n",
       "    <tr>\n",
       "      <th>1</th>\n",
       "      <td>2</td>\n",
       "      <td>25MV</td>\n",
       "      <td>AAmarelo</td>\n",
       "      <td>Black</td>\n",
       "      <td>1</td>\n",
       "      <td>25</td>\n",
       "      <td>M</td>\n",
       "      <td>V</td>\n",
       "    </tr>\n",
       "    <tr>\n",
       "      <th>2</th>\n",
       "      <td>3</td>\n",
       "      <td>27MV</td>\n",
       "      <td>B-Amarelo</td>\n",
       "      <td>Basic-Beta</td>\n",
       "      <td>1</td>\n",
       "      <td>27</td>\n",
       "      <td>M</td>\n",
       "      <td>V</td>\n",
       "    </tr>\n",
       "    <tr>\n",
       "      <th>3</th>\n",
       "      <td>4</td>\n",
       "      <td>26FD</td>\n",
       "      <td>BAmarelo</td>\n",
       "      <td>Black</td>\n",
       "      <td>0</td>\n",
       "      <td>26</td>\n",
       "      <td>F</td>\n",
       "      <td>D</td>\n",
       "    </tr>\n",
       "    <tr>\n",
       "      <th>4</th>\n",
       "      <td>5</td>\n",
       "      <td>26FD</td>\n",
       "      <td>C-Amarelo</td>\n",
       "      <td>Black</td>\n",
       "      <td>0</td>\n",
       "      <td>26</td>\n",
       "      <td>F</td>\n",
       "      <td>D</td>\n",
       "    </tr>\n",
       "  </tbody>\n",
       "</table>\n",
       "</div>"
      ],
      "text/plain": [
       "   ID ChaveSituacao ClassRisco   CatCliente  Pagamento Idade Genero  \\\n",
       "0   1          32FC     Ccinza  Basic-Alpha          1    32      F   \n",
       "1   2          25MV   AAmarelo        Black          1    25      M   \n",
       "2   3          27MV  B-Amarelo   Basic-Beta          1    27      M   \n",
       "3   4          26FD   BAmarelo        Black          0    26      F   \n",
       "4   5          26FD  C-Amarelo        Black          0    26      F   \n",
       "\n",
       "  EstadoCivil  \n",
       "0           C  \n",
       "1           V  \n",
       "2           V  \n",
       "3           D  \n",
       "4           D  "
      ]
     },
     "execution_count": 78,
     "metadata": {},
     "output_type": "execute_result"
    }
   ],
   "source": [
    "base.head()"
   ]
  },
  {
   "cell_type": "markdown",
   "id": "d23ea6d8",
   "metadata": {},
   "source": [
    "### Separando a coluna CatCliente com base em delimitadores de texto\n",
    "\n",
    "Nesta etapa separo a coluna CatCliente em duas colunas, com base no delimitador \"-\"."
   ]
  },
  {
   "cell_type": "code",
   "execution_count": 79,
   "id": "5c41311f",
   "metadata": {},
   "outputs": [],
   "source": [
    "base[\"CategoriaCartao\"] = base.CatCliente.str.split(\"-\").str.get(0)\n",
    "base[\"CategoriaVIP\"] = base.CatCliente.str.split(\"-\").str.get(1)"
   ]
  },
  {
   "cell_type": "code",
   "execution_count": 80,
   "id": "9ac2e4cd",
   "metadata": {},
   "outputs": [
    {
     "data": {
      "text/html": [
       "<div>\n",
       "<style scoped>\n",
       "    .dataframe tbody tr th:only-of-type {\n",
       "        vertical-align: middle;\n",
       "    }\n",
       "\n",
       "    .dataframe tbody tr th {\n",
       "        vertical-align: top;\n",
       "    }\n",
       "\n",
       "    .dataframe thead th {\n",
       "        text-align: right;\n",
       "    }\n",
       "</style>\n",
       "<table border=\"1\" class=\"dataframe\">\n",
       "  <thead>\n",
       "    <tr style=\"text-align: right;\">\n",
       "      <th></th>\n",
       "      <th>ID</th>\n",
       "      <th>ChaveSituacao</th>\n",
       "      <th>ClassRisco</th>\n",
       "      <th>CatCliente</th>\n",
       "      <th>Pagamento</th>\n",
       "      <th>Idade</th>\n",
       "      <th>Genero</th>\n",
       "      <th>EstadoCivil</th>\n",
       "      <th>CategoriaCartao</th>\n",
       "      <th>CategoriaVIP</th>\n",
       "    </tr>\n",
       "  </thead>\n",
       "  <tbody>\n",
       "    <tr>\n",
       "      <th>0</th>\n",
       "      <td>1</td>\n",
       "      <td>32FC</td>\n",
       "      <td>Ccinza</td>\n",
       "      <td>Basic-Alpha</td>\n",
       "      <td>1</td>\n",
       "      <td>32</td>\n",
       "      <td>F</td>\n",
       "      <td>C</td>\n",
       "      <td>Basic</td>\n",
       "      <td>Alpha</td>\n",
       "    </tr>\n",
       "    <tr>\n",
       "      <th>1</th>\n",
       "      <td>2</td>\n",
       "      <td>25MV</td>\n",
       "      <td>AAmarelo</td>\n",
       "      <td>Black</td>\n",
       "      <td>1</td>\n",
       "      <td>25</td>\n",
       "      <td>M</td>\n",
       "      <td>V</td>\n",
       "      <td>Black</td>\n",
       "      <td>NaN</td>\n",
       "    </tr>\n",
       "    <tr>\n",
       "      <th>2</th>\n",
       "      <td>3</td>\n",
       "      <td>27MV</td>\n",
       "      <td>B-Amarelo</td>\n",
       "      <td>Basic-Beta</td>\n",
       "      <td>1</td>\n",
       "      <td>27</td>\n",
       "      <td>M</td>\n",
       "      <td>V</td>\n",
       "      <td>Basic</td>\n",
       "      <td>Beta</td>\n",
       "    </tr>\n",
       "    <tr>\n",
       "      <th>3</th>\n",
       "      <td>4</td>\n",
       "      <td>26FD</td>\n",
       "      <td>BAmarelo</td>\n",
       "      <td>Black</td>\n",
       "      <td>0</td>\n",
       "      <td>26</td>\n",
       "      <td>F</td>\n",
       "      <td>D</td>\n",
       "      <td>Black</td>\n",
       "      <td>NaN</td>\n",
       "    </tr>\n",
       "    <tr>\n",
       "      <th>4</th>\n",
       "      <td>5</td>\n",
       "      <td>26FD</td>\n",
       "      <td>C-Amarelo</td>\n",
       "      <td>Black</td>\n",
       "      <td>0</td>\n",
       "      <td>26</td>\n",
       "      <td>F</td>\n",
       "      <td>D</td>\n",
       "      <td>Black</td>\n",
       "      <td>NaN</td>\n",
       "    </tr>\n",
       "  </tbody>\n",
       "</table>\n",
       "</div>"
      ],
      "text/plain": [
       "   ID ChaveSituacao ClassRisco   CatCliente  Pagamento Idade Genero  \\\n",
       "0   1          32FC     Ccinza  Basic-Alpha          1    32      F   \n",
       "1   2          25MV   AAmarelo        Black          1    25      M   \n",
       "2   3          27MV  B-Amarelo   Basic-Beta          1    27      M   \n",
       "3   4          26FD   BAmarelo        Black          0    26      F   \n",
       "4   5          26FD  C-Amarelo        Black          0    26      F   \n",
       "\n",
       "  EstadoCivil CategoriaCartao CategoriaVIP  \n",
       "0           C           Basic        Alpha  \n",
       "1           V           Black          NaN  \n",
       "2           V           Basic         Beta  \n",
       "3           D           Black          NaN  \n",
       "4           D           Black          NaN  "
      ]
     },
     "execution_count": 80,
     "metadata": {},
     "output_type": "execute_result"
    }
   ],
   "source": [
    "base.head()"
   ]
  },
  {
   "cell_type": "markdown",
   "id": "0c13b3b2",
   "metadata": {},
   "source": [
    "### Utilizando Regex para separar a coluna ClassRisco\n",
    "\n",
    "Como não é possível separar a coluna ClassRisco utilizando apenas delimitadores ou pela posição do texto, utilizo Regex para a tarefa.\n",
    "\n",
    "Regex (Regular Expressions) ou Expressões Regulares, é uma linguagem utilizada para encontrar padrões complexos em textos. As expressões regulares são formadas por uma combinação de caracteres literais que definem um conjunto de padrões a serem buscados."
   ]
  },
  {
   "cell_type": "markdown",
   "id": "82c49e28",
   "metadata": {},
   "source": [
    "Resumo de algumas funções utilizadas em Regex:\n",
    "\n",
    "    - ^: O texto procurado começa com\n",
    "    - $: Termina com\n",
    "    - *: O último caracter do texto é repetido 0 ou mais vezes\n",
    "    - +: O último caracter repetido 1 ou mais vezes\n",
    "    - ?: O último caracter repetido 0 ou 1 vez\n",
    "    - [A-Z]: qualquer valor em maiúsculo"
   ]
  },
  {
   "cell_type": "code",
   "execution_count": 81,
   "id": "782efd56",
   "metadata": {},
   "outputs": [],
   "source": [
    "import re"
   ]
  },
  {
   "cell_type": "code",
   "execution_count": 82,
   "id": "444289bc",
   "metadata": {},
   "outputs": [
    {
     "data": {
      "text/plain": [
       "['Lucas']"
      ]
     },
     "execution_count": 82,
     "metadata": {},
     "output_type": "execute_result"
    }
   ],
   "source": [
    "# Buscando Lucas no texto abaixo\n",
    "re.findall('Lucas','meu nome é Lucas')"
   ]
  },
  {
   "cell_type": "code",
   "execution_count": 83,
   "id": "53f0427f",
   "metadata": {},
   "outputs": [
    {
     "data": {
      "text/plain": [
       "['meu']"
      ]
     },
     "execution_count": 83,
     "metadata": {},
     "output_type": "execute_result"
    }
   ],
   "source": [
    "# Verificando se começa ou termina com um caracter (usando ˆ, $)\n",
    "re.findall('^meu','meu nome é Lucas')"
   ]
  },
  {
   "cell_type": "code",
   "execution_count": 84,
   "id": "e1c6dda0",
   "metadata": {},
   "outputs": [
    {
     "data": {
      "text/plain": [
       "['Lu']"
      ]
     },
     "execution_count": 84,
     "metadata": {},
     "output_type": "execute_result"
    }
   ],
   "source": [
    "# Verificando se existe parte da palavra Lucas (usando *, +, ?)\n",
    "re.findall('Lu?','meu nome é Lucas')"
   ]
  },
  {
   "cell_type": "code",
   "execution_count": 85,
   "id": "52cbeb8d",
   "metadata": {},
   "outputs": [
    {
     "data": {
      "text/plain": [
       "['L']"
      ]
     },
     "execution_count": 85,
     "metadata": {},
     "output_type": "execute_result"
    }
   ],
   "source": [
    "# Buscando por letras maiúsculas\n",
    "re.findall('[A-Z]','meu nome é Lcas')"
   ]
  },
  {
   "cell_type": "code",
   "execution_count": 86,
   "id": "7cb075f0",
   "metadata": {},
   "outputs": [
    {
     "data": {
      "text/plain": [
       "['B+']"
      ]
     },
     "execution_count": 86,
     "metadata": {},
     "output_type": "execute_result"
    }
   ],
   "source": [
    "# Buscando agora a classificação do cliente dentro da coluna \"ClassRisco\"\n",
    "re.findall(\"^[A-Z][^A-Z]?\",\"B+amarelo\")\n",
    "#^[A-Z] : tudo que começa com maiusculo\n",
    "#[A-Z] :  a segunda letra nao pode ser maiusculo"
   ]
  },
  {
   "cell_type": "code",
   "execution_count": 87,
   "id": "84087e7a",
   "metadata": {},
   "outputs": [],
   "source": [
    "base[\"Risco\"] = base.ClassRisco.apply(lambda x: re.findall(\"^[A-Z][^A-Za-z]?\",x)[0])"
   ]
  },
  {
   "cell_type": "code",
   "execution_count": 88,
   "id": "78fb1696",
   "metadata": {},
   "outputs": [
    {
     "data": {
      "text/html": [
       "<div>\n",
       "<style scoped>\n",
       "    .dataframe tbody tr th:only-of-type {\n",
       "        vertical-align: middle;\n",
       "    }\n",
       "\n",
       "    .dataframe tbody tr th {\n",
       "        vertical-align: top;\n",
       "    }\n",
       "\n",
       "    .dataframe thead th {\n",
       "        text-align: right;\n",
       "    }\n",
       "</style>\n",
       "<table border=\"1\" class=\"dataframe\">\n",
       "  <thead>\n",
       "    <tr style=\"text-align: right;\">\n",
       "      <th></th>\n",
       "      <th>ID</th>\n",
       "      <th>ChaveSituacao</th>\n",
       "      <th>ClassRisco</th>\n",
       "      <th>CatCliente</th>\n",
       "      <th>Pagamento</th>\n",
       "      <th>Idade</th>\n",
       "      <th>Genero</th>\n",
       "      <th>EstadoCivil</th>\n",
       "      <th>CategoriaCartao</th>\n",
       "      <th>CategoriaVIP</th>\n",
       "      <th>Risco</th>\n",
       "    </tr>\n",
       "  </thead>\n",
       "  <tbody>\n",
       "    <tr>\n",
       "      <th>0</th>\n",
       "      <td>1</td>\n",
       "      <td>32FC</td>\n",
       "      <td>Ccinza</td>\n",
       "      <td>Basic-Alpha</td>\n",
       "      <td>1</td>\n",
       "      <td>32</td>\n",
       "      <td>F</td>\n",
       "      <td>C</td>\n",
       "      <td>Basic</td>\n",
       "      <td>Alpha</td>\n",
       "      <td>C</td>\n",
       "    </tr>\n",
       "    <tr>\n",
       "      <th>1</th>\n",
       "      <td>2</td>\n",
       "      <td>25MV</td>\n",
       "      <td>AAmarelo</td>\n",
       "      <td>Black</td>\n",
       "      <td>1</td>\n",
       "      <td>25</td>\n",
       "      <td>M</td>\n",
       "      <td>V</td>\n",
       "      <td>Black</td>\n",
       "      <td>NaN</td>\n",
       "      <td>A</td>\n",
       "    </tr>\n",
       "    <tr>\n",
       "      <th>2</th>\n",
       "      <td>3</td>\n",
       "      <td>27MV</td>\n",
       "      <td>B-Amarelo</td>\n",
       "      <td>Basic-Beta</td>\n",
       "      <td>1</td>\n",
       "      <td>27</td>\n",
       "      <td>M</td>\n",
       "      <td>V</td>\n",
       "      <td>Basic</td>\n",
       "      <td>Beta</td>\n",
       "      <td>B-</td>\n",
       "    </tr>\n",
       "    <tr>\n",
       "      <th>3</th>\n",
       "      <td>4</td>\n",
       "      <td>26FD</td>\n",
       "      <td>BAmarelo</td>\n",
       "      <td>Black</td>\n",
       "      <td>0</td>\n",
       "      <td>26</td>\n",
       "      <td>F</td>\n",
       "      <td>D</td>\n",
       "      <td>Black</td>\n",
       "      <td>NaN</td>\n",
       "      <td>B</td>\n",
       "    </tr>\n",
       "    <tr>\n",
       "      <th>4</th>\n",
       "      <td>5</td>\n",
       "      <td>26FD</td>\n",
       "      <td>C-Amarelo</td>\n",
       "      <td>Black</td>\n",
       "      <td>0</td>\n",
       "      <td>26</td>\n",
       "      <td>F</td>\n",
       "      <td>D</td>\n",
       "      <td>Black</td>\n",
       "      <td>NaN</td>\n",
       "      <td>C-</td>\n",
       "    </tr>\n",
       "  </tbody>\n",
       "</table>\n",
       "</div>"
      ],
      "text/plain": [
       "   ID ChaveSituacao ClassRisco   CatCliente  Pagamento Idade Genero  \\\n",
       "0   1          32FC     Ccinza  Basic-Alpha          1    32      F   \n",
       "1   2          25MV   AAmarelo        Black          1    25      M   \n",
       "2   3          27MV  B-Amarelo   Basic-Beta          1    27      M   \n",
       "3   4          26FD   BAmarelo        Black          0    26      F   \n",
       "4   5          26FD  C-Amarelo        Black          0    26      F   \n",
       "\n",
       "  EstadoCivil CategoriaCartao CategoriaVIP Risco  \n",
       "0           C           Basic        Alpha     C  \n",
       "1           V           Black          NaN     A  \n",
       "2           V           Basic         Beta    B-  \n",
       "3           D           Black          NaN     B  \n",
       "4           D           Black          NaN    C-  "
      ]
     },
     "execution_count": 88,
     "metadata": {},
     "output_type": "execute_result"
    }
   ],
   "source": [
    "base.head()"
   ]
  },
  {
   "cell_type": "markdown",
   "id": "30a729ae",
   "metadata": {},
   "source": [
    "### Transformando a coluna Idade em valores numéricos\n",
    "\n",
    "Nesta etapa utilizo a função to_numeric para transformar em valores numéricos a coluna de Idade."
   ]
  },
  {
   "cell_type": "code",
   "execution_count": 89,
   "id": "d00c0c09",
   "metadata": {},
   "outputs": [],
   "source": [
    "base[\"Idade\"] = pd.to_numeric(base[\"Idade\"]) "
   ]
  },
  {
   "cell_type": "code",
   "execution_count": 90,
   "id": "57a1b790",
   "metadata": {},
   "outputs": [
    {
     "name": "stdout",
     "output_type": "stream",
     "text": [
      "<class 'pandas.core.frame.DataFrame'>\n",
      "RangeIndex: 20 entries, 0 to 19\n",
      "Data columns (total 11 columns):\n",
      " #   Column           Non-Null Count  Dtype \n",
      "---  ------           --------------  ----- \n",
      " 0   ID               20 non-null     int64 \n",
      " 1   ChaveSituacao    20 non-null     object\n",
      " 2   ClassRisco       20 non-null     object\n",
      " 3   CatCliente       20 non-null     object\n",
      " 4   Pagamento        20 non-null     int64 \n",
      " 5   Idade            20 non-null     int64 \n",
      " 6   Genero           20 non-null     object\n",
      " 7   EstadoCivil      20 non-null     object\n",
      " 8   CategoriaCartao  20 non-null     object\n",
      " 9   CategoriaVIP     8 non-null      object\n",
      " 10  Risco            20 non-null     object\n",
      "dtypes: int64(3), object(8)\n",
      "memory usage: 1.8+ KB\n"
     ]
    }
   ],
   "source": [
    "base.info()"
   ]
  },
  {
   "cell_type": "markdown",
   "id": "01f75035",
   "metadata": {},
   "source": [
    "### Substituindo valores vazios na coluna CategoriaVIP\n",
    "\n",
    "Nesta etapa substituo os valores NaN da coluna CategoriaVIP com a string \"Comum\"."
   ]
  },
  {
   "cell_type": "code",
   "execution_count": 91,
   "id": "cdb76ebd",
   "metadata": {},
   "outputs": [],
   "source": [
    "base.loc[base.CategoriaVIP.isnull(),\"CategoriaVIP\"]=\"Comum\""
   ]
  },
  {
   "cell_type": "code",
   "execution_count": 92,
   "id": "c23bc8d6",
   "metadata": {},
   "outputs": [
    {
     "data": {
      "text/html": [
       "<div>\n",
       "<style scoped>\n",
       "    .dataframe tbody tr th:only-of-type {\n",
       "        vertical-align: middle;\n",
       "    }\n",
       "\n",
       "    .dataframe tbody tr th {\n",
       "        vertical-align: top;\n",
       "    }\n",
       "\n",
       "    .dataframe thead th {\n",
       "        text-align: right;\n",
       "    }\n",
       "</style>\n",
       "<table border=\"1\" class=\"dataframe\">\n",
       "  <thead>\n",
       "    <tr style=\"text-align: right;\">\n",
       "      <th></th>\n",
       "      <th>ID</th>\n",
       "      <th>ChaveSituacao</th>\n",
       "      <th>ClassRisco</th>\n",
       "      <th>CatCliente</th>\n",
       "      <th>Pagamento</th>\n",
       "      <th>Idade</th>\n",
       "      <th>Genero</th>\n",
       "      <th>EstadoCivil</th>\n",
       "      <th>CategoriaCartao</th>\n",
       "      <th>CategoriaVIP</th>\n",
       "      <th>Risco</th>\n",
       "    </tr>\n",
       "  </thead>\n",
       "  <tbody>\n",
       "    <tr>\n",
       "      <th>0</th>\n",
       "      <td>1</td>\n",
       "      <td>32FC</td>\n",
       "      <td>Ccinza</td>\n",
       "      <td>Basic-Alpha</td>\n",
       "      <td>1</td>\n",
       "      <td>32</td>\n",
       "      <td>F</td>\n",
       "      <td>C</td>\n",
       "      <td>Basic</td>\n",
       "      <td>Alpha</td>\n",
       "      <td>C</td>\n",
       "    </tr>\n",
       "    <tr>\n",
       "      <th>1</th>\n",
       "      <td>2</td>\n",
       "      <td>25MV</td>\n",
       "      <td>AAmarelo</td>\n",
       "      <td>Black</td>\n",
       "      <td>1</td>\n",
       "      <td>25</td>\n",
       "      <td>M</td>\n",
       "      <td>V</td>\n",
       "      <td>Black</td>\n",
       "      <td>Comum</td>\n",
       "      <td>A</td>\n",
       "    </tr>\n",
       "    <tr>\n",
       "      <th>2</th>\n",
       "      <td>3</td>\n",
       "      <td>27MV</td>\n",
       "      <td>B-Amarelo</td>\n",
       "      <td>Basic-Beta</td>\n",
       "      <td>1</td>\n",
       "      <td>27</td>\n",
       "      <td>M</td>\n",
       "      <td>V</td>\n",
       "      <td>Basic</td>\n",
       "      <td>Beta</td>\n",
       "      <td>B-</td>\n",
       "    </tr>\n",
       "    <tr>\n",
       "      <th>3</th>\n",
       "      <td>4</td>\n",
       "      <td>26FD</td>\n",
       "      <td>BAmarelo</td>\n",
       "      <td>Black</td>\n",
       "      <td>0</td>\n",
       "      <td>26</td>\n",
       "      <td>F</td>\n",
       "      <td>D</td>\n",
       "      <td>Black</td>\n",
       "      <td>Comum</td>\n",
       "      <td>B</td>\n",
       "    </tr>\n",
       "    <tr>\n",
       "      <th>4</th>\n",
       "      <td>5</td>\n",
       "      <td>26FD</td>\n",
       "      <td>C-Amarelo</td>\n",
       "      <td>Black</td>\n",
       "      <td>0</td>\n",
       "      <td>26</td>\n",
       "      <td>F</td>\n",
       "      <td>D</td>\n",
       "      <td>Black</td>\n",
       "      <td>Comum</td>\n",
       "      <td>C-</td>\n",
       "    </tr>\n",
       "  </tbody>\n",
       "</table>\n",
       "</div>"
      ],
      "text/plain": [
       "   ID ChaveSituacao ClassRisco   CatCliente  Pagamento  Idade Genero  \\\n",
       "0   1          32FC     Ccinza  Basic-Alpha          1     32      F   \n",
       "1   2          25MV   AAmarelo        Black          1     25      M   \n",
       "2   3          27MV  B-Amarelo   Basic-Beta          1     27      M   \n",
       "3   4          26FD   BAmarelo        Black          0     26      F   \n",
       "4   5          26FD  C-Amarelo        Black          0     26      F   \n",
       "\n",
       "  EstadoCivil CategoriaCartao CategoriaVIP Risco  \n",
       "0           C           Basic        Alpha     C  \n",
       "1           V           Black        Comum     A  \n",
       "2           V           Basic         Beta    B-  \n",
       "3           D           Black        Comum     B  \n",
       "4           D           Black        Comum    C-  "
      ]
     },
     "execution_count": 92,
     "metadata": {},
     "output_type": "execute_result"
    }
   ],
   "source": [
    "base.head()"
   ]
  },
  {
   "cell_type": "markdown",
   "id": "9aff2a59",
   "metadata": {},
   "source": [
    "### Agrupando Valores com a função GroupBy\n",
    "\n",
    "Por fim são feitos mais alguns agrupamentos do dataset, de forma que agora é possível verificar alguns padrões entre os tipos de clientes."
   ]
  },
  {
   "cell_type": "code",
   "execution_count": 94,
   "id": "28310ab5",
   "metadata": {},
   "outputs": [
    {
     "data": {
      "text/plain": [
       "Pagamento  CategoriaCartao\n",
       "0          Basic              3\n",
       "           Black              3\n",
       "           Platinum           1\n",
       "1          Basic              3\n",
       "           Black              4\n",
       "           Platinum           6\n",
       "Name: Pagamento, dtype: int64"
      ]
     },
     "execution_count": 94,
     "metadata": {},
     "output_type": "execute_result"
    }
   ],
   "source": [
    "base.groupby([\"Pagamento\",\"CategoriaCartao\"])[\"Pagamento\"].count()"
   ]
  },
  {
   "cell_type": "markdown",
   "id": "9c3ba3c1",
   "metadata": {},
   "source": [
    "É possível verificar que maioria dos clientes com cartão Platinum são bons pagadores (coluna pagamento com valor igual 1)."
   ]
  },
  {
   "cell_type": "code",
   "execution_count": 95,
   "id": "d6796dfb",
   "metadata": {},
   "outputs": [
    {
     "data": {
      "text/plain": [
       "Pagamento  CategoriaVIP\n",
       "0          Alpha           1\n",
       "           Beta            2\n",
       "           Comum           4\n",
       "1          Alpha           3\n",
       "           Beta            2\n",
       "           Comum           8\n",
       "Name: Pagamento, dtype: int64"
      ]
     },
     "execution_count": 95,
     "metadata": {},
     "output_type": "execute_result"
    }
   ],
   "source": [
    "base.groupby([\"Pagamento\",\"CategoriaVIP\"])[\"Pagamento\"].count()"
   ]
  },
  {
   "cell_type": "markdown",
   "id": "af1335dc",
   "metadata": {},
   "source": [
    "Observando a coluna CategoriaVIP, conclui-se que os clientes do tipo Comum são os melhores pagadores."
   ]
  },
  {
   "cell_type": "code",
   "execution_count": 96,
   "id": "bd829dc5",
   "metadata": {},
   "outputs": [
    {
     "data": {
      "text/plain": [
       "Pagamento  Risco\n",
       "0          B        2\n",
       "           C-       5\n",
       "1          A        3\n",
       "           A-       4\n",
       "           B-       2\n",
       "           C        3\n",
       "           C+       1\n",
       "Name: Pagamento, dtype: int64"
      ]
     },
     "execution_count": 96,
     "metadata": {},
     "output_type": "execute_result"
    }
   ],
   "source": [
    "base.groupby([\"Pagamento\",\"Risco\"])[\"Pagamento\"].count()"
   ]
  },
  {
   "cell_type": "markdown",
   "id": "8967d88a",
   "metadata": {},
   "source": [
    "Ja verificando a coluna Risco, observa-se que apenas os clientes de risco B e C- são inadimplentes (coluna Pagamento = 0). "
   ]
  }
 ],
 "metadata": {
  "kernelspec": {
   "display_name": "Python 3 (ipykernel)",
   "language": "python",
   "name": "python3"
  },
  "language_info": {
   "codemirror_mode": {
    "name": "ipython",
    "version": 3
   },
   "file_extension": ".py",
   "mimetype": "text/x-python",
   "name": "python",
   "nbconvert_exporter": "python",
   "pygments_lexer": "ipython3",
   "version": "3.9.13"
  }
 },
 "nbformat": 4,
 "nbformat_minor": 5
}
